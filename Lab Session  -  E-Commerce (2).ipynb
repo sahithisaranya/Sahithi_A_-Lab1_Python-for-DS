{
 "cells": [
  {
   "cell_type": "markdown",
   "id": "2c8f47d3",
   "metadata": {
    "id": "2c8f47d3"
   },
   "source": [
    "# Lab Session"
   ]
  },
  {
   "cell_type": "markdown",
   "id": "f637aba6",
   "metadata": {
    "id": "f637aba6"
   },
   "source": [
    "## <font color='blue'> Table Of Contents </font>\n",
    "- Problem Statement \n",
    "- Load required libraries\n",
    "- Connect to DB using mysql-connector-python package\n",
    "- Create database named `e_commerce`\n",
    "- Create tables and insert data into tables as specified in the question\n",
    "- Read all the questions and write sql queries to meet the objective "
   ]
  },
  {
   "cell_type": "markdown",
   "id": "1073fc90",
   "metadata": {
    "id": "1073fc90"
   },
   "source": [
    "## <font color='blue'> Problem Statement </font>\n",
    "###  An E-commerce website manages its data in the form of various tables.\n",
    "You need to create a Database called `e_commerce` and various tables in it. The tables needed and attributes which need to be in every table are given before hand. All you have to do is create tables with data in it and answer some of the questions that follows."
   ]
  },
  {
   "cell_type": "markdown",
   "id": "48787355",
   "metadata": {
    "id": "48787355"
   },
   "source": [
    "### e_commerce Schema:"
   ]
  },
  {
   "cell_type": "markdown",
   "id": "78938fbc",
   "metadata": {
    "id": "78938fbc"
   },
   "source": []
  },
  {
   "cell_type": "markdown",
   "id": "d9abe6c7",
   "metadata": {
    "id": "d9abe6c7"
   },
   "source": [
    "### Load Required Libraries"
   ]
  },
  {
   "cell_type": "code",
   "execution_count": 1,
   "id": "0178d08e",
   "metadata": {
    "id": "0178d08e"
   },
   "outputs": [
    {
     "name": "stdout",
     "output_type": "stream",
     "text": [
      "Requirement already satisfied: mysql-connector-python in c:\\users\\pruthvi\\anaconda3\\lib\\site-packages (8.0.32)\n",
      "Requirement already satisfied: protobuf<=3.20.3,>=3.11.0 in c:\\users\\pruthvi\\anaconda3\\lib\\site-packages (from mysql-connector-python) (3.20.3)\n",
      "Note: you may need to restart the kernel to use updated packages.\n"
     ]
    }
   ],
   "source": [
    "pip install mysql-connector-python\n"
   ]
  },
  {
   "cell_type": "code",
   "execution_count": 2,
   "id": "bd62cd61",
   "metadata": {},
   "outputs": [],
   "source": [
    "import mysql.connector\n",
    "import pandas as pd"
   ]
  },
  {
   "cell_type": "markdown",
   "id": "d7d7fd5c",
   "metadata": {
    "id": "d7d7fd5c"
   },
   "source": [
    "### Connect to DB using Mysql-connector-python package"
   ]
  },
  {
   "cell_type": "code",
   "execution_count": 3,
   "id": "ef7bef72",
   "metadata": {
    "id": "ef7bef72"
   },
   "outputs": [],
   "source": [
    "conn=mysql.connector.connect(host='localhost',\n",
    "                                  user='root',\n",
    "                                  password='admin')\n",
    "cursor=conn.cursor()"
   ]
  },
  {
   "cell_type": "markdown",
   "id": "9d55e510",
   "metadata": {
    "id": "9d55e510"
   },
   "source": [
    "### You are required to create a database named 'e_commerce'"
   ]
  },
  {
   "cell_type": "code",
   "execution_count": 4,
   "id": "42a154f2",
   "metadata": {
    "id": "42a154f2"
   },
   "outputs": [],
   "source": [
    "cursor.execute(\"CREATE DATABASE e_commerce\")"
   ]
  },
  {
   "cell_type": "markdown",
   "id": "480dc986",
   "metadata": {
    "id": "480dc986"
   },
   "source": [
    "### Q1. Create tables for supplier, customer, category, product, productDetails, order, rating to store the data for the E-commerce with the schema definition given below.\n",
    "\n",
    "\n",
    "- **`supplier`**(SUPP_ID int primary key, SUPP_NAME varchar(50), SUPP_CITY varchar(50), SUPP_PHONE varchar(10))\n",
    "\n",
    "\n",
    "- **`customer`** (CUS_ID INT NOT NULL, CUS_NAME VARCHAR(20) NULL DEFAULT NULL, CUS_PHONE VARCHAR(10), CUS_CITY varchar(30) ,CUS_GENDER CHAR,PRIMARY KEY (CUS_ID))\n",
    "\n",
    "\n",
    "- **`category`** (CAT_ID INT NOT NULL, CAT_NAME VARCHAR(20) NULL DEFAULT NULL,PRIMARY KEY (CAT_ID))\n",
    "\n",
    "\n",
    "- **`product`** (PRO_ID INT NOT NULL, PRO_NAME VARCHAR(20) NULL DEFAULT NULL, PRO_DESC VARCHAR(60) NULL DEFAULT NULL, CAT_ID INT NOT NULL,PRIMARY KEY (PRO_ID),FOREIGN KEY (CAT_ID) REFERENCES CATEGORY (CAT_ID))\n",
    "\n",
    "\n",
    "- **`product_details`** (PROD_ID INT NOT NULL, PRO_ID INT NOT NULL, SUPP_ID INT NOT NULL, PROD_PRICE INT NOT NULL,\n",
    "  PRIMARY KEY (PROD_ID),FOREIGN KEY (PRO_ID) REFERENCES PRODUCT (PRO_ID), FOREIGN KEY (SUPP_ID) REFERENCES SUPPLIER(SUPP_ID))\n",
    "  \n",
    "  \n",
    "- **`order`** (ORD_ID INT NOT NULL, ORD_AMOUNT INT NOT NULL, ORD_DATE DATE, CUS_ID INT NOT NULL, PROD_ID INT NOT NULL,PRIMARY KEY (ORD_ID),FOREIGN KEY (CUS_ID) REFERENCES CUSTOMER(CUS_ID),FOREIGN KEY (PROD_ID) REFERENCES PRODUCT_DETAILS(PROD_ID))\n",
    "\n",
    "\n",
    "- **`rating`** (RAT_ID INT NOT NULL, CUS_ID INT NOT NULL, SUPP_ID INT NOT NULL, RAT_RATSTARS INT NOT NULL,PRIMARY KEY (RAT_ID),FOREIGN KEY (SUPP_ID) REFERENCES SUPPLIER (SUPP_ID),FOREIGN KEY (CUS_ID) REFERENCES CUSTOMER(CUS_ID))"
   ]
  },
  {
   "cell_type": "code",
   "execution_count": 5,
   "id": "967b718f",
   "metadata": {
    "id": "967b718f"
   },
   "outputs": [],
   "source": [
    "conn=mysql.connector.connect(host='localhost',\n",
    "                                  user='root',\n",
    "                                  password='admin',\n",
    "                                   database=\"e_commerce\")\n",
    "eCursor=conn.cursor()\n",
    "eCursor.execute(\"CREATE TABLE supplier (SUPP_ID int primary key, SUPP_NAME varchar(50), SUPP_CITY varchar(50), SUPP_PHONE varchar(10))\")\n",
    "eCursor.execute(\"CREATE TABLE customer (CUS_ID INT NOT NULL, CUS_NAME VARCHAR(20) NULL DEFAULT NULL, CUS_PHONE VARCHAR(10), CUS_CITY varchar(30) ,CUS_GENDER CHAR,PRIMARY KEY (CUS_ID))\")\n",
    "eCursor.execute(\"CREATE TABLE category (CAT_ID INT NOT NULL, CAT_NAME VARCHAR(20) NULL DEFAULT NULL,PRIMARY KEY (CAT_ID))\")\n",
    "eCursor.execute(\"CREATE TABLE product (PRO_ID INT NOT NULL, PRO_NAME VARCHAR(20) NULL DEFAULT NULL, PRO_DESC VARCHAR(60) NULL DEFAULT NULL, CAT_ID INT NOT NULL,PRIMARY KEY (PRO_ID),FOREIGN KEY (CAT_ID) REFERENCES CATEGORY (CAT_ID))\")\n",
    "eCursor.execute(\"CREATE TABLE product_details (PROD_ID INT NOT NULL, PRO_ID INT NOT NULL, SUPP_ID INT NOT NULL, PROD_PRICE INT NOT NULL, PRIMARY KEY (PROD_ID),FOREIGN KEY (PRO_ID) REFERENCES PRODUCT (PRO_ID), FOREIGN KEY (SUPP_ID) REFERENCES SUPPLIER(SUPP_ID))\")\n",
    "eCursor.execute(\"CREATE TABLE orders (ORD_ID INT NOT NULL, ORD_AMOUNT INT NOT NULL, ORD_DATE DATE, CUS_ID INT NOT NULL, PROD_ID INT NOT NULL,PRIMARY KEY (ORD_ID),FOREIGN KEY (CUS_ID) REFERENCES CUSTOMER(CUS_ID),FOREIGN KEY (PROD_ID) REFERENCES PRODUCT_DETAILS(PROD_ID))\")\n",
    "eCursor.execute(\"CREATE TABLE rating (RAT_ID INT NOT NULL, CUS_ID INT NOT NULL, SUPP_ID INT NOT NULL, RAT_RATSTARS INT NOT NULL,PRIMARY KEY (RAT_ID),FOREIGN KEY (SUPP_ID) REFERENCES SUPPLIER (SUPP_ID),FOREIGN KEY (CUS_ID) REFERENCES CUSTOMER(CUS_ID))\")"
   ]
  },
  {
   "cell_type": "markdown",
   "id": "1f653731",
   "metadata": {
    "id": "1f653731"
   },
   "source": [
    "### Q2. Insert the following data in the table created above\n",
    "#### `Note:` If you are getting any error while inserting the data into tables, Kindly close the connection and reconnect\n",
    "\n",
    "#### Table:  supplier\n",
    "| SUPP_ID | SUPP_NAME | SUPP_CITY | SUPP_PHONE |\n",
    "| --- | --- | --- | --- | \n",
    "| 1 | Rajesh Retails | Delhi | 1234567890 |\n",
    "| 2 | Appario Ltd. | Mumbai | 258963147032 | \n",
    "| 3 | Knome products | Bangalore | 9785462315 |\n",
    "| 4 | Bansal Retails | Kochi | 8975463285 |\n",
    "| 5 | Mittal Ltd. | Lucknow | 7898456532 |"
   ]
  },
  {
   "cell_type": "code",
   "execution_count": null,
   "id": "f6dddd07",
   "metadata": {
    "id": "f6dddd07"
   },
   "outputs": [],
   "source": []
  },
  {
   "cell_type": "markdown",
   "id": "e8a070a6",
   "metadata": {
    "id": "e8a070a6"
   },
   "source": [
    "#### Table:  customer\n",
    "| CUS_ID | CUS_NAME | SUPP_PHONE | CUS_CITY | CUS_GENDER\n",
    "| --- | --- | --- | --- | --- |\n",
    "| 1 | AAKASH | 9999999999 | DELHI | M |\n",
    "| 2 | AMAN | 9785463215 | NOIDA | M |\n",
    "| 3 | NEHA | 9999999998 | MUMBAI | F |\n",
    "| 4 | MEGHA | 9994562399 | KOLKATA | F |\n",
    "| 5 | PULKIT | 7895999999 | LUCKNOW | M |"
   ]
  },
  {
   "cell_type": "code",
   "execution_count": null,
   "id": "15a4ee87",
   "metadata": {
    "id": "15a4ee87"
   },
   "outputs": [],
   "source": []
  },
  {
   "cell_type": "markdown",
   "id": "b68bfbc2",
   "metadata": {
    "id": "b68bfbc2"
   },
   "source": [
    "#### Table:  category\n",
    "| CAT_ID | CAT_NAME | \n",
    "| --- | --- |  \n",
    "| 1 | BOOKS |\n",
    "| 2 | GAMES |  \n",
    "| 3 | GROCERIES | \n",
    "| 4 | ELECTRONICS | \n",
    "| 5 | CLOTHES | "
   ]
  },
  {
   "cell_type": "code",
   "execution_count": null,
   "id": "05a00abc",
   "metadata": {
    "id": "05a00abc"
   },
   "outputs": [],
   "source": []
  },
  {
   "cell_type": "markdown",
   "id": "eb3bc592",
   "metadata": {
    "id": "eb3bc592"
   },
   "source": [
    "#### Table:  product\n",
    "| PRO_ID | PRO_NAME | PRO_DESC | CAT_ID |\n",
    "| --- | --- | --- | --- | \n",
    "| 1 | GTA V | DFJDJFDJFDJFDJFJF | 2 |\n",
    "| 2 | TSHIRT | DFDFJDFJDKFD | 5 | \n",
    "| 3 | ROG LAPTOP | DFNTTNTNTERND | 4 |\n",
    "| 4 | OATS | REURENTBTOTH | 3 |\n",
    "| 5 | HARRY POTTER | NBEMCTHTJTH | 1 |\n"
   ]
  },
  {
   "cell_type": "code",
   "execution_count": null,
   "id": "cdfbdfad",
   "metadata": {
    "id": "cdfbdfad"
   },
   "outputs": [],
   "source": []
  },
  {
   "cell_type": "markdown",
   "id": "cfa8a47d",
   "metadata": {
    "id": "cfa8a47d"
   },
   "source": [
    "#### Table:  product_details\n",
    "| PROD_ID | PRO_ID | SUPP_ID | PROD_PRICE |\n",
    "| --- | --- | --- | --- | \n",
    "| 1 | 1 | 2 | 1500 |\n",
    "| 2 | 3 | 5 | 30000 | \n",
    "| 3 | 5 | 1 | 3000 |\n",
    "| 4 | 2 | 3 | 2500 |\n",
    "| 5 | 4 | 1 | 1000 |"
   ]
  },
  {
   "cell_type": "code",
   "execution_count": null,
   "id": "e87c7791",
   "metadata": {},
   "outputs": [],
   "source": []
  },
  {
   "cell_type": "markdown",
   "id": "1df49086",
   "metadata": {
    "id": "1df49086"
   },
   "source": [
    "#### Table:  orders\n",
    "| ORD_ID | ORD_AMOUNT | ORD_DATE | CUS_ID | PROD_ID\n",
    "| --- | --- | --- | --- | --- |\n",
    "| 20 | 1500 | 2021-10-12 | 3 | 5 |\n",
    "| 25 | 30500 | 2021-09-16 | 5 | 2 |\n",
    "| 26 | 2000 | 2021-10-05 | 1 | 1 |\n",
    "| 30 | 3500 | 2021-08-16 | 4 | 3 |\n",
    "| 50 | 2000 | 2021-10-06 | 2 | 1 |"
   ]
  },
  {
   "cell_type": "code",
   "execution_count": null,
   "id": "0d97dc92",
   "metadata": {
    "id": "0d97dc92"
   },
   "outputs": [],
   "source": [
    "\n"
   ]
  },
  {
   "cell_type": "markdown",
   "id": "75b8ce5f",
   "metadata": {
    "id": "75b8ce5f"
   },
   "source": [
    "#### Table: rating\n",
    "| RAT_ID | CUS_ID | SUPP_ID | RAT_RATSTARS |\n",
    "| --- | --- | --- | --- | \n",
    "| 1 | 2 | 2 | 4 |\n",
    "| 2 | 3 | 4 | 3 | \n",
    "| 3 | 5 | 1 | 5 |\n",
    "| 4 | 1 | 3 | 2 |\n",
    "| 5 | 4 | 5 | 4 |"
   ]
  },
  {
   "cell_type": "code",
   "execution_count": 6,
   "id": "6d5f1e18",
   "metadata": {
    "id": "6d5f1e18"
   },
   "outputs": [],
   "source": [
    "# insert into \"supplier\" table\n",
    "\n",
    "eCursor.execute(\"INSERT INTO supplier (SUPP_ID,SUPP_NAME,SUPP_CITY,SUPP_PHONE) VALUES(1,'Rajesh Retails','Delhi','1234567890')\")\n",
    "eCursor.execute(\"INSERT INTO supplier (SUPP_ID,SUPP_NAME,SUPP_CITY,SUPP_PHONE) VALUES(2,'Appario Ltd.','Mumbai','2589631470')\")\n",
    "eCursor.execute(\"INSERT INTO supplier (SUPP_ID,SUPP_NAME,SUPP_CITY,SUPP_PHONE) VALUES(3,'Knome products','Bangalore','9785462315')\")\n",
    "eCursor.execute(\"INSERT INTO supplier (SUPP_ID,SUPP_NAME,SUPP_CITY,SUPP_PHONE) VALUES(4,'Bansai Retails','Kochi','8975463285')\")\n",
    "eCursor.execute(\"INSERT INTO supplier (SUPP_ID,SUPP_NAME,SUPP_CITY,SUPP_PHONE) VALUES(5,'Mittal Ltd.','Lucknow','7898565321')\")\n",
    "\n",
    "# insert into \"customer\" table\n",
    "eCursor.execute(\"INSERT INTO customer VALUES (1, 'AAKASH','9999999999','DELHI','M')\")\n",
    "eCursor.execute(\"INSERT INTO customer VALUES (2, 'AMAN','9785463215','NOIDA','M')\")\n",
    "eCursor.execute(\"INSERT INTO customer VALUES (3, 'NEHA','9999999998','MUMBAI','F')\")\n",
    "eCursor.execute(\"INSERT INTO customer VALUES (4, 'MEGHA','9994562399','KOLKATA','F')\")\n",
    "eCursor.execute(\"INSERT INTO customer VALUES (5, 'PULKIT','7895999999','LUCKNOW','M')\")\n",
    "\n",
    "# insert into \"categoty\" table\n",
    "eCursor.execute(\"INSERT INTO category VALUES(1,'BOOKS')\")\n",
    "eCursor.execute(\"INSERT INTO category VALUES(2,'GAMES')\")\n",
    "eCursor.execute(\"INSERT INTO category VALUES(3,'GROCERIES')\")\n",
    "eCursor.execute(\"INSERT INTO category VALUES(4,'ELECTRONICS')\")\n",
    "eCursor.execute(\"INSERT INTO category VALUES(5,'CLOTHES')\")\n",
    "\n",
    "# insert into \"product\" table\n",
    "eCursor.execute(\"INSERT INTO product VALUES(1,'GTA V','DFJDJFDJFDJF',2)\")\n",
    "eCursor.execute(\"INSERT INTO product VALUES(2,'TSHIRT','DFJDJFKFD',5)\")\n",
    "eCursor.execute(\"INSERT INTO product VALUES(3,'ROG LAPTOP','DFNTTNTNTERND',4)\")\n",
    "eCursor.execute(\"INSERT INTO product VALUES(4,'OATS','RUERENTBTOTH',3)\")\n",
    "eCursor.execute(\"INSERT INTO product VALUES(5,'HARRY POTTER','NBEMCTHTJTH',1)\")\n",
    "\n",
    "\n",
    "eCursor.execute(\"INSERT INTO product_details VALUES(1,1,2,1500)\")\n",
    "eCursor.execute(\"INSERT INTO product_details VALUES(2,3,5,30000)\")\n",
    "eCursor.execute(\"INSERT INTO product_details VALUES(3,5,1,3000)\")\n",
    "eCursor.execute(\"INSERT INTO product_details VALUES(4,2,3,2500)\")\n",
    "eCursor.execute(\"INSERT INTO product_details VALUES(5,4,1,1000)\")\n",
    "\n",
    "# insert into \"orders\" table\n",
    "\n",
    "eCursor.execute(\"INSERT INTO orders VALUES (20,1500,'2021-10-12',3,5)\")\n",
    "eCursor.execute(\"INSERT INTO orders VALUES (25,30500,'2021-09-16',5,2)\")\n",
    "eCursor.execute(\"INSERT INTO orders VALUES (26,2000,'2021-10-05',1,1)\")\n",
    "eCursor.execute(\"INSERT INTO orders VALUES (30,3500,'2021-08-16',4,3)\")\n",
    "eCursor.execute(\"INSERT INTO orders VALUES (50,2000,'2021-10-06',2,1)\")\n",
    "\n",
    "# insert into \"rating\" table\n",
    "\n",
    "eCursor.execute(\"INSERT INTO rating VALUES(1,2,2,4)\")\n",
    "eCursor.execute(\"INSERT INTO rating VALUES(2,3,4,3)\")\n",
    "eCursor.execute(\"INSERT INTO rating VALUES(3,5,1,5)\")\n",
    "eCursor.execute(\"INSERT INTO rating VALUES(4,1,3,2)\")\n",
    "eCursor.execute(\"INSERT INTO rating VALUES(5,4,5,4)\")\n"
   ]
  },
  {
   "cell_type": "markdown",
   "id": "b59361c3",
   "metadata": {
    "id": "b59361c3"
   },
   "source": [
    "### Q3) Display the number of the customer group by their genders who have placed any order of amount greater than or equal to Rs.3000."
   ]
  },
  {
   "cell_type": "code",
   "execution_count": 7,
   "id": "fcafaf3c",
   "metadata": {
    "id": "fcafaf3c"
   },
   "outputs": [
    {
     "name": "stdout",
     "output_type": "stream",
     "text": [
      "  CUS_GENDER  COUNT(DISTINCT o.CUS_ID)\n",
      "0          F                         1\n",
      "1          M                         1\n"
     ]
    },
    {
     "name": "stderr",
     "output_type": "stream",
     "text": [
      "C:\\Users\\Pruthvi\\AppData\\Local\\Temp\\ipykernel_6668\\1023865536.py:8: UserWarning: pandas only supports SQLAlchemy connectable (engine/connection) or database string URI or sqlite3 DBAPI2 connection. Other DBAPI2 objects are not tested. Please consider using SQLAlchemy.\n",
      "  result=pd.read_sql(query, conn)\n"
     ]
    }
   ],
   "source": [
    "query = \"\"\"\n",
    "SELECT c.CUS_GENDER, COUNT(DISTINCT o.CUS_ID)\n",
    "FROM customer c\n",
    "JOIN `orders` o ON c.CUS_ID = o.CUS_ID\n",
    "WHERE o.ORD_AMOUNT >= 3000\n",
    "GROUP BY c.CUS_GENDER;\n",
    "\"\"\"\n",
    "result=pd.read_sql(query, conn)\n",
    "print(result)"
   ]
  },
  {
   "cell_type": "markdown",
   "id": "e49e04f5",
   "metadata": {
    "id": "e49e04f5"
   },
   "source": [
    "### Q4) Display all the order along with product name ordered by a customer having Customer_Id=2;"
   ]
  },
  {
   "cell_type": "code",
   "execution_count": 8,
   "id": "9dcb7883",
   "metadata": {
    "id": "9dcb7883"
   },
   "outputs": [
    {
     "name": "stdout",
     "output_type": "stream",
     "text": [
      "   ORD_ID PRO_NAME  ORD_AMOUNT    ORD_DATE\n",
      "0      50    GTA V        2000  2021-10-06\n"
     ]
    },
    {
     "name": "stderr",
     "output_type": "stream",
     "text": [
      "C:\\Users\\Pruthvi\\AppData\\Local\\Temp\\ipykernel_6668\\964488163.py:8: UserWarning: pandas only supports SQLAlchemy connectable (engine/connection) or database string URI or sqlite3 DBAPI2 connection. Other DBAPI2 objects are not tested. Please consider using SQLAlchemy.\n",
      "  result=pd.read_sql(query,conn)\n"
     ]
    }
   ],
   "source": [
    "\n",
    "query = \"\"\"\n",
    "SELECT o.ORD_ID, p.PRO_NAME, o.ORD_AMOUNT, o.ORD_DATE \n",
    "        FROM orders o\n",
    "        JOIN product_details pd ON o.PROD_ID = pd.PROD_ID\n",
    "        JOIN product p ON pd.PRO_ID = p.PRO_ID\n",
    "        WHERE o.CUS_ID = 2;\n",
    "\"\"\"\n",
    "result=pd.read_sql(query,conn)\n",
    "print(result)"
   ]
  },
  {
   "cell_type": "markdown",
   "id": "3a33398e",
   "metadata": {
    "id": "3a33398e"
   },
   "source": [
    "### Q5) Display the Supplier details who can supply more than one product."
   ]
  },
  {
   "cell_type": "code",
   "execution_count": 9,
   "id": "e933b979",
   "metadata": {
    "id": "e933b979"
   },
   "outputs": [
    {
     "name": "stdout",
     "output_type": "stream",
     "text": [
      "   SUPP_ID       SUPP_NAME SUPP_CITY  SUPP_PHONE\n",
      "0        1  Rajesh Retails     Delhi  1234567890\n"
     ]
    },
    {
     "name": "stderr",
     "output_type": "stream",
     "text": [
      "C:\\Users\\Pruthvi\\AppData\\Local\\Temp\\ipykernel_6668\\2966986219.py:6: UserWarning: pandas only supports SQLAlchemy connectable (engine/connection) or database string URI or sqlite3 DBAPI2 connection. Other DBAPI2 objects are not tested. Please consider using SQLAlchemy.\n",
      "  result=pd.read_sql(query,conn)\n"
     ]
    }
   ],
   "source": [
    "\n",
    "query = \"SELECT SUPPLIER.SUPP_ID, SUPPLIER.SUPP_NAME, SUPPLIER.SUPP_CITY, SUPPLIER.SUPP_PHONE \" \\\n",
    "        \"FROM SUPPLIER \" \\\n",
    "        \"INNER JOIN PRODUCT_DETAILS ON SUPPLIER.SUPP_ID = PRODUCT_DETAILS.SUPP_ID \" \\\n",
    "        \"GROUP BY SUPPLIER.SUPP_ID \" \\\n",
    "        \"HAVING COUNT(DISTINCT PRODUCT_DETAILS.PRO_ID) > 1\"\n",
    "result=pd.read_sql(query,conn)\n",
    "print(result)\n",
    "\n"
   ]
  },
  {
   "cell_type": "markdown",
   "id": "5fd319ef",
   "metadata": {
    "id": "5fd319ef"
   },
   "source": [
    "### Q6) Find the category of the product whose order amount is minimum."
   ]
  },
  {
   "cell_type": "code",
   "execution_count": 12,
   "id": "06f5cb51",
   "metadata": {
    "id": "06f5cb51"
   },
   "outputs": [
    {
     "name": "stdout",
     "output_type": "stream",
     "text": [
      "Category Name: GROCERIES\n"
     ]
    }
   ],
   "source": [
    "cursor = conn.cursor()\n",
    "cursor.execute(\"\"\"\n",
    "    SELECT c.CAT_NAME FROM category c WHERE\n",
    "    c.CAT_ID=(SELECT p.CAT_ID\n",
    "    FROM product p\n",
    "    JOIN product_details pd ON p.PRO_ID = pd.PRO_ID\n",
    "    JOIN orders o ON pd.PROD_ID = o.PROD_ID\n",
    "    WHERE o.ORD_AMOUNT = (SELECT MIN(ORD_AMOUNT) FROM orders)\n",
    "    LIMIT 1)\n",
    "\"\"\")\n",
    "\n",
    "# Fetch the result\n",
    "result = cursor.fetchone()\n",
    "\n",
    "# Print the category ID of the product whose order amount is minimum\n",
    "if result:\n",
    "    print(f\"Category Name: {result[0]}\")\n",
    "else:\n",
    "    print(\"No result found\")\n",
    "\n"
   ]
  },
  {
   "cell_type": "markdown",
   "id": "107102d4",
   "metadata": {
    "id": "107102d4"
   },
   "source": [
    "### Q7) Display the Id and Name of the Product ordered after “2021-10-05”."
   ]
  },
  {
   "cell_type": "code",
   "execution_count": 13,
   "id": "5d3fc7e8",
   "metadata": {
    "id": "5d3fc7e8"
   },
   "outputs": [
    {
     "name": "stdout",
     "output_type": "stream",
     "text": [
      "   PRO_ID PRO_NAME\n",
      "0       4     OATS\n",
      "1       1    GTA V\n"
     ]
    },
    {
     "name": "stderr",
     "output_type": "stream",
     "text": [
      "C:\\Users\\Pruthvi\\AppData\\Local\\Temp\\ipykernel_6668\\1636597413.py:8: UserWarning: pandas only supports SQLAlchemy connectable (engine/connection) or database string URI or sqlite3 DBAPI2 connection. Other DBAPI2 objects are not tested. Please consider using SQLAlchemy.\n",
      "  result=pd.read_sql(query,conn)\n"
     ]
    }
   ],
   "source": [
    "\n",
    "query = '''\n",
    "SELECT p.PRO_ID, p.PRO_NAME\n",
    "FROM product p\n",
    "INNER JOIN product_details pd ON p.PRO_ID = pd.PRO_ID\n",
    "INNER JOIN orders o ON pd.PROD_ID = o.PROD_ID\n",
    "WHERE o.ORD_DATE > '2021-10-05'\n",
    "'''\n",
    "result=pd.read_sql(query,conn)\n",
    "print(result)\n"
   ]
  },
  {
   "cell_type": "markdown",
   "id": "bdce7167",
   "metadata": {
    "id": "bdce7167"
   },
   "source": [
    "### Q8) Print the top 3 supplier name and id and rating on the basis of their rating along with the customer name who has given the rating."
   ]
  },
  {
   "cell_type": "code",
   "execution_count": 14,
   "id": "fa0cbe44",
   "metadata": {
    "id": "fa0cbe44"
   },
   "outputs": [
    {
     "name": "stdout",
     "output_type": "stream",
     "text": [
      "   SUPP_ID       SUPP_NAME  RAT_RATSTARS CUS_NAME\n",
      "0        1  Rajesh Retails             5   PULKIT\n",
      "1        2    Appario Ltd.             4     AMAN\n",
      "2        5     Mittal Ltd.             4    MEGHA\n"
     ]
    },
    {
     "name": "stderr",
     "output_type": "stream",
     "text": [
      "C:\\Users\\Pruthvi\\AppData\\Local\\Temp\\ipykernel_6668\\189963148.py:9: UserWarning: pandas only supports SQLAlchemy connectable (engine/connection) or database string URI or sqlite3 DBAPI2 connection. Other DBAPI2 objects are not tested. Please consider using SQLAlchemy.\n",
      "  result=pd.read_sql(query,conn)\n"
     ]
    }
   ],
   "source": [
    "query = '''\n",
    "SELECT s.SUPP_ID, s.SUPP_NAME, r.RAT_RATSTARS, c.CUS_NAME\n",
    "    FROM supplier s\n",
    "    INNER JOIN rating r ON s.SUPP_ID = r.SUPP_ID\n",
    "    INNER JOIN customer c ON r.CUS_ID = c.CUS_ID\n",
    "    ORDER BY r.RAT_RATSTARS DESC\n",
    "    LIMIT 3\n",
    "'''\n",
    "result=pd.read_sql(query,conn)\n",
    "print(result)"
   ]
  },
  {
   "cell_type": "markdown",
   "id": "346ec2a1",
   "metadata": {
    "id": "346ec2a1"
   },
   "source": [
    "### Q9) Display customer name and gender whose names start or end with character 'A'."
   ]
  },
  {
   "cell_type": "code",
   "execution_count": 15,
   "id": "e571b5fd",
   "metadata": {
    "id": "e571b5fd"
   },
   "outputs": [
    {
     "name": "stdout",
     "output_type": "stream",
     "text": [
      "  CUS_NAME CUS_GENDER\n",
      "0   AAKASH          M\n",
      "1     AMAN          M\n",
      "2     NEHA          F\n",
      "3    MEGHA          F\n"
     ]
    },
    {
     "name": "stderr",
     "output_type": "stream",
     "text": [
      "C:\\Users\\Pruthvi\\AppData\\Local\\Temp\\ipykernel_6668\\2577054608.py:4: UserWarning: pandas only supports SQLAlchemy connectable (engine/connection) or database string URI or sqlite3 DBAPI2 connection. Other DBAPI2 objects are not tested. Please consider using SQLAlchemy.\n",
      "  result=pd.read_sql(query,conn)\n"
     ]
    }
   ],
   "source": [
    "query = '''\n",
    "SELECT CUS_NAME, CUS_GENDER FROM customer WHERE CUS_NAME LIKE 'A%' OR CUS_NAME LIKE '%A'\n",
    "'''\n",
    "result=pd.read_sql(query,conn)\n",
    "print(result)"
   ]
  },
  {
   "cell_type": "markdown",
   "id": "d0b01f77",
   "metadata": {
    "id": "d0b01f77"
   },
   "source": [
    "### Q10) Display the total order amount of the male customers."
   ]
  },
  {
   "cell_type": "code",
   "execution_count": 16,
   "id": "c3fa76e3",
   "metadata": {
    "id": "c3fa76e3"
   },
   "outputs": [
    {
     "name": "stdout",
     "output_type": "stream",
     "text": [
      "Sum: 34500\n"
     ]
    }
   ],
   "source": [
    "cursor = conn.cursor()\n",
    "cursor.execute('''\n",
    "SELECT SUM(o.ORD_AMOUNT) as total_order_amount\n",
    "                        FROM customer c\n",
    "                        INNER JOIN orders o ON c.CUS_ID = o.CUS_ID\n",
    "                        WHERE c.CUS_GENDER = 'M'\n",
    "''')\n",
    "result = cursor.fetchone()\n",
    "if result:\n",
    "    print(f\"Sum: {result[0]}\")\n",
    "else:\n",
    "    print(\"No result found\")"
   ]
  },
  {
   "cell_type": "markdown",
   "id": "ff8a9971",
   "metadata": {
    "id": "ff8a9971"
   },
   "source": [
    "### Q11) Display all the Customers left outer join with  the orders"
   ]
  },
  {
   "cell_type": "code",
   "execution_count": 17,
   "id": "a340c6d6",
   "metadata": {
    "id": "a340c6d6"
   },
   "outputs": [
    {
     "name": "stdout",
     "output_type": "stream",
     "text": [
      "   CUS_ID CUS_NAME   CUS_PHONE CUS_CITY CUS_GENDER  ORD_ID  ORD_AMOUNT  \\\n",
      "0       1   AAKASH  9999999999    DELHI          M      26        2000   \n",
      "1       2     AMAN  9785463215    NOIDA          M      50        2000   \n",
      "2       3     NEHA  9999999998   MUMBAI          F      20        1500   \n",
      "3       4    MEGHA  9994562399  KOLKATA          F      30        3500   \n",
      "4       5   PULKIT  7895999999  LUCKNOW          M      25       30500   \n",
      "\n",
      "     ORD_DATE  CUS_ID  PROD_ID  \n",
      "0  2021-10-05       1        1  \n",
      "1  2021-10-06       2        1  \n",
      "2  2021-10-12       3        5  \n",
      "3  2021-08-16       4        3  \n",
      "4  2021-09-16       5        2  \n"
     ]
    },
    {
     "name": "stderr",
     "output_type": "stream",
     "text": [
      "C:\\Users\\Pruthvi\\AppData\\Local\\Temp\\ipykernel_6668\\2504737947.py:7: UserWarning: pandas only supports SQLAlchemy connectable (engine/connection) or database string URI or sqlite3 DBAPI2 connection. Other DBAPI2 objects are not tested. Please consider using SQLAlchemy.\n",
      "  result=pd.read_sql(query,conn)\n"
     ]
    }
   ],
   "source": [
    "query = '''\n",
    "            SELECT *\n",
    "           FROM customer\n",
    "           LEFT OUTER JOIN orders\n",
    "           ON customer.CUS_ID = orders.CUS_ID\n",
    "'''\n",
    "result=pd.read_sql(query,conn)\n",
    "print(result)"
   ]
  },
  {
   "cell_type": "markdown",
   "id": "0a72afe3",
   "metadata": {
    "id": "0a72afe3"
   },
   "source": [
    "**NOTE:** Always close an open connection once you are done with the database operations"
   ]
  },
  {
   "cell_type": "markdown",
   "id": "8c88f479",
   "metadata": {
    "id": "8c88f479"
   },
   "source": [
    "## Happy Learning:)"
   ]
  }
 ],
 "metadata": {
  "colab": {
   "name": "Lab Session  -  E-Commerce.ipynb",
   "provenance": []
  },
  "kernelspec": {
   "display_name": "Python 3 (ipykernel)",
   "language": "python",
   "name": "python3"
  },
  "language_info": {
   "codemirror_mode": {
    "name": "ipython",
    "version": 3
   },
   "file_extension": ".py",
   "mimetype": "text/x-python",
   "name": "python",
   "nbconvert_exporter": "python",
   "pygments_lexer": "ipython3",
   "version": "3.10.9"
  }
 },
 "nbformat": 4,
 "nbformat_minor": 5
}
